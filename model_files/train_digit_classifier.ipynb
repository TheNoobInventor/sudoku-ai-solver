{
 "cells": [
  {
   "cell_type": "markdown",
   "id": "f996a3f2-a602-421c-9fe8-5163f636dd61",
   "metadata": {},
   "source": [
    "## Train digit classifier\n",
    "\n",
    "In this notebook, the model used to predict the extracted digits of the sudoku puzzle is created and built. The MNIST dataset is used for this purpose. \n",
    "\n",
    "More information about the model build, parameters and other aspects of the project can be found here: https://thenoobinventor.github.io/sudoku-ai-solver/. "
   ]
  },
  {
   "cell_type": "code",
   "execution_count": 1,
   "id": "1ad16b62-b8df-464b-aee7-9874bb53bf67",
   "metadata": {},
   "outputs": [],
   "source": [
    "# Disable tensorflow warning messages\n",
    "\n",
    "import os\n",
    "os.environ['TF_CPP_MIN_LOG_LEVEL'] = '2'"
   ]
  },
  {
   "cell_type": "code",
   "execution_count": 2,
   "id": "1e2a26b1-8528-4c25-ae93-5e855a1b6c28",
   "metadata": {},
   "outputs": [],
   "source": [
    "import numpy as np\n",
    "import matplotlib.pyplot as plt\n",
    "from keras.datasets import mnist\n",
    "from keras.utils.np_utils import to_categorical\n",
    "from keras.models import Sequential\n",
    "from keras.layers import Dense, Conv2D, MaxPool2D, Flatten, Dropout, Activation\n",
    "from sklearn.metrics import classification_report"
   ]
  },
  {
   "cell_type": "code",
   "execution_count": 3,
   "id": "356d3403-2abc-4104-957e-44a6ad9cf026",
   "metadata": {},
   "outputs": [],
   "source": [
    "# Load MNIST dataset\n",
    "\n",
    "(train_data, train_labels), (test_data, test_labels) = mnist.load_data()"
   ]
  },
  {
   "cell_type": "code",
   "execution_count": 4,
   "id": "d001b587-a70e-41ee-832d-235204d70f43",
   "metadata": {},
   "outputs": [],
   "source": [
    "# Convert labels/categories to one hot encoding\n",
    "\n",
    "test_labels = to_categorical(test_labels, 10)\n",
    "train_labels = to_categorical(train_labels, 10)"
   ]
  },
  {
   "cell_type": "code",
   "execution_count": 5,
   "id": "94577ce5-08c5-4afa-ad15-fedde311aa8e",
   "metadata": {},
   "outputs": [],
   "source": [
    "# Normalize test and train data in range [0, 1]\n",
    "\n",
    "train_data = train_data / 255\n",
    "test_data = test_data / 255"
   ]
  },
  {
   "cell_type": "code",
   "execution_count": 6,
   "id": "3246fd9b-9753-471d-8756-d1e9c35bddbe",
   "metadata": {},
   "outputs": [],
   "source": [
    "# Reshape to include grayscale color channel\n",
    "\n",
    "train_data = train_data.reshape(train_data.shape[0], 28, 28, 1)\n",
    "test_data = test_data.reshape(test_data.shape[0], 28, 28, 1)"
   ]
  },
  {
   "cell_type": "code",
   "execution_count": 7,
   "id": "d03bb112-5c2f-425e-a00b-95d7b48d86e5",
   "metadata": {},
   "outputs": [],
   "source": [
    "# Create model\n",
    "model = Sequential()\n",
    "\n",
    "# First set of Convolution layer\n",
    "model.add(Conv2D(32, (3, 3), activation='relu', kernel_initializer='he_uniform', input_shape=(28, 28, 1)))\n",
    "\n",
    "# Pooling layer\n",
    "model.add(MaxPool2D((2, 2)))\n",
    "\n",
    "# Second set of Convolution layer\n",
    "model.add(Conv2D(64, (3, 3), activation='relu', kernel_initializer='he_uniform'))\n",
    "\n",
    "# Third set of Convolution layer\n",
    "model.add(Conv2D(64, (3, 3), activation='relu', kernel_initializer='he_uniform'))\n",
    "\n",
    "# Pooling layer\n",
    "model.add(MaxPool2D((2, 2)))\n",
    "\n",
    "# Flat layer: 2 Dimension --> 1 Dimension\n",
    "model.add(Flatten())\n",
    "model.add(Dense(100, activation='relu', kernel_initializer='he_uniform'))\n",
    "\n",
    "# Output layer/classifer\n",
    "model.add(Dense(10, activation='softmax'))\n",
    "\n",
    "# Compile model\n",
    "model.compile(loss='categorical_crossentropy', optimizer='adam', metrics=['accuracy'])"
   ]
  },
  {
   "cell_type": "code",
   "execution_count": 8,
   "id": "710b1aa5-84e0-473c-82f2-97bff14e326f",
   "metadata": {},
   "outputs": [
    {
     "name": "stdout",
     "output_type": "stream",
     "text": [
      "Model: \"sequential\"\n",
      "_________________________________________________________________\n",
      " Layer (type)                Output Shape              Param #   \n",
      "=================================================================\n",
      " conv2d (Conv2D)             (None, 26, 26, 32)        320       \n",
      "                                                                 \n",
      " max_pooling2d (MaxPooling2D  (None, 13, 13, 32)       0         \n",
      " )                                                               \n",
      "                                                                 \n",
      " conv2d_1 (Conv2D)           (None, 11, 11, 64)        18496     \n",
      "                                                                 \n",
      " conv2d_2 (Conv2D)           (None, 9, 9, 64)          36928     \n",
      "                                                                 \n",
      " max_pooling2d_1 (MaxPooling  (None, 4, 4, 64)         0         \n",
      " 2D)                                                             \n",
      "                                                                 \n",
      " flatten (Flatten)           (None, 1024)              0         \n",
      "                                                                 \n",
      " dense (Dense)               (None, 100)               102500    \n",
      "                                                                 \n",
      " dense_1 (Dense)             (None, 10)                1010      \n",
      "                                                                 \n",
      "=================================================================\n",
      "Total params: 159,254\n",
      "Trainable params: 159,254\n",
      "Non-trainable params: 0\n",
      "_________________________________________________________________\n"
     ]
    }
   ],
   "source": [
    "# Model summary\n",
    "\n",
    "model.summary()"
   ]
  },
  {
   "cell_type": "code",
   "execution_count": 9,
   "id": "2d1d8dd5-206c-4d4b-9ba8-c54653ec26e9",
   "metadata": {},
   "outputs": [
    {
     "name": "stdout",
     "output_type": "stream",
     "text": [
      "Epoch 1/20\n",
      "1875/1875 [==============================] - 34s 18ms/step - loss: 0.1174 - accuracy: 0.9637\n",
      "Epoch 2/20\n",
      "1875/1875 [==============================] - 34s 18ms/step - loss: 0.0414 - accuracy: 0.9876\n",
      "Epoch 3/20\n",
      "1875/1875 [==============================] - 35s 19ms/step - loss: 0.0300 - accuracy: 0.9907\n",
      "Epoch 4/20\n",
      "1875/1875 [==============================] - 35s 19ms/step - loss: 0.0208 - accuracy: 0.9934\n",
      "Epoch 5/20\n",
      "1875/1875 [==============================] - 34s 18ms/step - loss: 0.0164 - accuracy: 0.9949\n",
      "Epoch 6/20\n",
      "1875/1875 [==============================] - 35s 19ms/step - loss: 0.0112 - accuracy: 0.9965\n",
      "Epoch 7/20\n",
      "1875/1875 [==============================] - 34s 18ms/step - loss: 0.0128 - accuracy: 0.9959\n",
      "Epoch 8/20\n",
      "1875/1875 [==============================] - 34s 18ms/step - loss: 0.0090 - accuracy: 0.9971\n",
      "Epoch 9/20\n",
      "1875/1875 [==============================] - 34s 18ms/step - loss: 0.0079 - accuracy: 0.9972\n",
      "Epoch 10/20\n",
      "1875/1875 [==============================] - 35s 18ms/step - loss: 0.0080 - accuracy: 0.9977\n",
      "Epoch 11/20\n",
      "1875/1875 [==============================] - 35s 19ms/step - loss: 0.0087 - accuracy: 0.9974\n",
      "Epoch 12/20\n",
      "1875/1875 [==============================] - 36s 19ms/step - loss: 0.0057 - accuracy: 0.9983\n",
      "Epoch 13/20\n",
      "1875/1875 [==============================] - 35s 18ms/step - loss: 0.0062 - accuracy: 0.9980\n",
      "Epoch 14/20\n",
      "1875/1875 [==============================] - 33s 18ms/step - loss: 0.0055 - accuracy: 0.9984\n",
      "Epoch 15/20\n",
      "1875/1875 [==============================] - 33s 17ms/step - loss: 0.0062 - accuracy: 0.9983\n",
      "Epoch 16/20\n",
      "1875/1875 [==============================] - 33s 18ms/step - loss: 0.0051 - accuracy: 0.9985\n",
      "Epoch 17/20\n",
      "1875/1875 [==============================] - 33s 17ms/step - loss: 0.0051 - accuracy: 0.9983\n",
      "Epoch 18/20\n",
      "1875/1875 [==============================] - 33s 17ms/step - loss: 0.0048 - accuracy: 0.9984\n",
      "Epoch 19/20\n",
      "1875/1875 [==============================] - 33s 17ms/step - loss: 0.0050 - accuracy: 0.9986\n",
      "Epoch 20/20\n",
      "1875/1875 [==============================] - 33s 18ms/step - loss: 0.0049 - accuracy: 0.9987\n"
     ]
    },
    {
     "data": {
      "text/plain": [
       "<keras.callbacks.History at 0x7fd8f6d527c0>"
      ]
     },
     "execution_count": 9,
     "metadata": {},
     "output_type": "execute_result"
    }
   ],
   "source": [
    "# Train model\n",
    "\n",
    "model.fit(train_data, train_labels, epochs=20)"
   ]
  },
  {
   "cell_type": "code",
   "execution_count": 10,
   "id": "65f58fb1-8b74-4a15-9a80-3319959bf256",
   "metadata": {},
   "outputs": [
    {
     "name": "stdout",
     "output_type": "stream",
     "text": [
      "313/313 [==============================] - 2s 6ms/step - loss: 0.0560 - accuracy: 0.9901\n"
     ]
    },
    {
     "data": {
      "text/plain": [
       "[0.056007660925388336, 0.9901000261306763]"
      ]
     },
     "execution_count": 10,
     "metadata": {},
     "output_type": "execute_result"
    }
   ],
   "source": [
    "# Evaluate model performance on test data and labels\n",
    "\n",
    "model.evaluate(test_data, test_labels)"
   ]
  },
  {
   "cell_type": "code",
   "execution_count": 11,
   "id": "4530711b-3690-4997-b1fa-7bfbe8da4a73",
   "metadata": {},
   "outputs": [
    {
     "name": "stdout",
     "output_type": "stream",
     "text": [
      "313/313 [==============================] - 2s 5ms/step\n"
     ]
    }
   ],
   "source": [
    "# Predict classes on test images\n",
    "\n",
    "predictions = model.predict(test_data)"
   ]
  },
  {
   "cell_type": "code",
   "execution_count": 12,
   "id": "97443569-0ad2-4dfb-bb0a-5c45937a0f13",
   "metadata": {},
   "outputs": [
    {
     "name": "stdout",
     "output_type": "stream",
     "text": [
      "              precision    recall  f1-score   support\n",
      "\n",
      "           0       0.99      0.99      0.99       980\n",
      "           1       1.00      0.99      1.00      1135\n",
      "           2       0.98      1.00      0.99      1032\n",
      "           3       1.00      0.99      0.99      1010\n",
      "           4       0.99      0.99      0.99       982\n",
      "           5       0.98      0.99      0.99       892\n",
      "           6       0.99      0.99      0.99       958\n",
      "           7       0.99      0.99      0.99      1028\n",
      "           8       1.00      0.98      0.99       974\n",
      "           9       0.99      0.98      0.98      1009\n",
      "\n",
      "    accuracy                           0.99     10000\n",
      "   macro avg       0.99      0.99      0.99     10000\n",
      "weighted avg       0.99      0.99      0.99     10000\n",
      "\n"
     ]
    }
   ],
   "source": [
    "# Classification report\n",
    "\n",
    "print(classification_report(test_labels.argmax(axis=1), predictions.argmax(axis=1)))"
   ]
  },
  {
   "cell_type": "code",
   "execution_count": 13,
   "id": "bd5638f4-8728-4cb6-b50e-6282c44e9a7a",
   "metadata": {},
   "outputs": [],
   "source": [
    "# Save model\n",
    "\n",
    "model.save('model_name.h5')"
   ]
  }
 ],
 "metadata": {
  "kernelspec": {
   "display_name": "Python 3 (ipykernel)",
   "language": "python",
   "name": "python3"
  },
  "language_info": {
   "codemirror_mode": {
    "name": "ipython",
    "version": 3
   },
   "file_extension": ".py",
   "mimetype": "text/x-python",
   "name": "python",
   "nbconvert_exporter": "python",
   "pygments_lexer": "ipython3",
   "version": "3.8.10"
  },
  "vscode": {
   "interpreter": {
    "hash": "916dbcbb3f70747c44a77c7bcd40155683ae19c65e1c03b4aa3499c5328201f1"
   }
  }
 },
 "nbformat": 4,
 "nbformat_minor": 5
}
