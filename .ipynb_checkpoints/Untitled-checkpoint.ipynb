{
 "cells": [
  {
   "cell_type": "code",
   "execution_count": 6,
   "id": "4930edd1-afab-4ebc-ba19-27038e1185e5",
   "metadata": {},
   "outputs": [
    {
     "name": "stdin",
     "output_type": "stream",
     "text": [
      " heeey\n"
     ]
    },
    {
     "name": "stdout",
     "output_type": "stream",
     "text": [
      "heeeeeey\n"
     ]
    }
   ],
   "source": [
    "# GREETINGS\n",
    "\n",
    "greetings = input()\n",
    "counter = greetings.count('e')\n",
    "print(greetings[0]+2*counter*'e'+greetings[-1])"
   ]
  },
  {
   "cell_type": "code",
   "execution_count": 4,
   "id": "f31a5780-8905-4169-901b-b600099a3f3e",
   "metadata": {},
   "outputs": [
    {
     "data": {
      "text/plain": [
       "'e'"
      ]
     },
     "execution_count": 4,
     "metadata": {},
     "output_type": "execute_result"
    }
   ],
   "source": [
    "greetings[1]"
   ]
  },
  {
   "cell_type": "code",
   "execution_count": null,
   "id": "d4876518-8bb9-48d0-b044-cec754809611",
   "metadata": {},
   "outputs": [],
   "source": []
  }
 ],
 "metadata": {
  "kernelspec": {
   "display_name": "Python 3 (ipykernel)",
   "language": "python",
   "name": "python3"
  },
  "language_info": {
   "codemirror_mode": {
    "name": "ipython",
    "version": 3
   },
   "file_extension": ".py",
   "mimetype": "text/x-python",
   "name": "python",
   "nbconvert_exporter": "python",
   "pygments_lexer": "ipython3",
   "version": "3.8.10"
  }
 },
 "nbformat": 4,
 "nbformat_minor": 5
}
