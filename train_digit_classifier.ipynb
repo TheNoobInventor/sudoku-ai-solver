{
 "cells": [
  {
   "cell_type": "code",
   "execution_count": 1,
   "id": "1ad16b62-b8df-464b-aee7-9874bb53bf67",
   "metadata": {},
   "outputs": [],
   "source": [
    "# Disable tensorflow warning messages\n",
    "\n",
    "import os\n",
    "os.environ['TF_CPP_MIN_LOG_LEVEL'] = '2'"
   ]
  },
  {
   "cell_type": "code",
   "execution_count": 2,
   "id": "1e2a26b1-8528-4c25-ae93-5e855a1b6c28",
   "metadata": {},
   "outputs": [],
   "source": [
    "import numpy as np\n",
    "import matplotlib.pyplot as plt\n",
    "from keras.datasets import mnist\n",
    "from keras.utils.np_utils import to_categorical\n",
    "from keras.models import Sequential\n",
    "from keras.layers import Dense, Conv2D, MaxPool2D, Flatten, Dropout, Activation"
   ]
  },
  {
   "cell_type": "code",
   "execution_count": 3,
   "id": "356d3403-2abc-4104-957e-44a6ad9cf026",
   "metadata": {},
   "outputs": [],
   "source": [
    "# Load MNIST dataset\n",
    "\n",
    "(train_data, train_labels), (test_data, test_labels) = mnist.load_data()"
   ]
  },
  {
   "cell_type": "code",
   "execution_count": 4,
   "id": "fc7c4229-2867-44e4-b6a8-2e2ed6084fee",
   "metadata": {},
   "outputs": [
    {
     "data": {
      "text/plain": [
       "(60000, 28, 28)"
      ]
     },
     "execution_count": 4,
     "metadata": {},
     "output_type": "execute_result"
    }
   ],
   "source": [
    "train_data.shape"
   ]
  },
  {
   "cell_type": "code",
   "execution_count": 5,
   "id": "005611d4-20ff-414f-b64d-94a6a4c5d27f",
   "metadata": {},
   "outputs": [
    {
     "data": {
      "text/plain": [
       "array([5, 0, 4, ..., 5, 6, 8], dtype=uint8)"
      ]
     },
     "execution_count": 5,
     "metadata": {},
     "output_type": "execute_result"
    }
   ],
   "source": [
    "train_labels"
   ]
  },
  {
   "cell_type": "code",
   "execution_count": 6,
   "id": "0e84c4b8-7427-4cf1-812c-a8725c95a5cc",
   "metadata": {},
   "outputs": [
    {
     "data": {
      "text/plain": [
       "(60000,)"
      ]
     },
     "execution_count": 6,
     "metadata": {},
     "output_type": "execute_result"
    }
   ],
   "source": [
    "train_labels.shape"
   ]
  },
  {
   "cell_type": "code",
   "execution_count": 7,
   "id": "d001b587-a70e-41ee-832d-235204d70f43",
   "metadata": {},
   "outputs": [],
   "source": [
    "# Convert labels/categories to one hot encoding [briefly explain what this is]\n",
    "\n",
    "test_labels = to_categorical(test_labels, 10)\n",
    "train_labels = to_categorical(train_labels, 10)"
   ]
  },
  {
   "cell_type": "code",
   "execution_count": 8,
   "id": "ef707659-e4d8-4a64-8b55-716128c46ee7",
   "metadata": {},
   "outputs": [
    {
     "data": {
      "text/plain": [
       "array([0., 0., 0., 0., 0., 1., 0., 0., 0., 0.], dtype=float32)"
      ]
     },
     "execution_count": 8,
     "metadata": {},
     "output_type": "execute_result"
    }
   ],
   "source": [
    "train_labels[0]"
   ]
  },
  {
   "cell_type": "code",
   "execution_count": 9,
   "id": "94577ce5-08c5-4afa-ad15-fedde311aa8e",
   "metadata": {},
   "outputs": [],
   "source": [
    "# Normalize test and train data in range [0, 1]\n",
    "\n",
    "train_data = train_data / 255\n",
    "test_data = test_data / 255"
   ]
  },
  {
   "cell_type": "code",
   "execution_count": 10,
   "id": "3246fd9b-9753-471d-8756-d1e9c35bddbe",
   "metadata": {},
   "outputs": [],
   "source": [
    "# Reshape to include grayscale color channel\n",
    "\n",
    "train_data = train_data.reshape(train_data.shape[0], 28, 28, 1)\n",
    "test_data = test_data.reshape(test_data.shape[0], 28, 28, 1)"
   ]
  },
  {
   "cell_type": "code",
   "execution_count": 18,
   "id": "d03bb112-5c2f-425e-a00b-95d7b48d86e5",
   "metadata": {},
   "outputs": [],
   "source": [
    "# Create model\n",
    "model = Sequential()\n",
    "\n",
    "#\n",
    "model.add(Conv2D(32, (3, 3), activation='relu', kernel_initializer='he_uniform', input_shape=(28, 28, 1)))\n",
    "model.add(MaxPool2D((2, 2)))\n",
    "\n",
    "model.add(Conv2D(64, (3, 3), activation='relu', kernel_initializer='he_uniform'))\n",
    "\n",
    "#\n",
    "model.add(Conv2D(64, (3, 3), activation='relu', kernel_initializer='he_uniform'))\n",
    "model.add(MaxPool2D((2, 2)))\n",
    "\n",
    "#\n",
    "model.add(Flatten())\n",
    "model.add(Dense(100, activation='relu', kernel_initializer='he_uniform'))\n",
    "# model.add(Dropout(0.5))\n",
    "\n",
    "#\n",
    "model.add(Dense(10, activation='softmax'))\n",
    "\n",
    "#\n",
    "model.compile(loss='categorical_crossentropy', optimizer='adam', metrics=['accuracy'])"
   ]
  },
  {
   "cell_type": "code",
   "execution_count": 12,
   "id": "710b1aa5-84e0-473c-82f2-97bff14e326f",
   "metadata": {},
   "outputs": [
    {
     "name": "stdout",
     "output_type": "stream",
     "text": [
      "Model: \"sequential\"\n",
      "_________________________________________________________________\n",
      " Layer (type)                Output Shape              Param #   \n",
      "=================================================================\n",
      " conv2d (Conv2D)             (None, 26, 26, 32)        320       \n",
      "                                                                 \n",
      " max_pooling2d (MaxPooling2D  (None, 13, 13, 32)       0         \n",
      " )                                                               \n",
      "                                                                 \n",
      " conv2d_1 (Conv2D)           (None, 11, 11, 64)        18496     \n",
      "                                                                 \n",
      " conv2d_2 (Conv2D)           (None, 9, 9, 64)          36928     \n",
      "                                                                 \n",
      " max_pooling2d_1 (MaxPooling  (None, 4, 4, 64)         0         \n",
      " 2D)                                                             \n",
      "                                                                 \n",
      " flatten (Flatten)           (None, 1024)              0         \n",
      "                                                                 \n",
      " dense (Dense)               (None, 100)               102500    \n",
      "                                                                 \n",
      " dense_1 (Dense)             (None, 10)                1010      \n",
      "                                                                 \n",
      "=================================================================\n",
      "Total params: 159,254\n",
      "Trainable params: 159,254\n",
      "Non-trainable params: 0\n",
      "_________________________________________________________________\n"
     ]
    }
   ],
   "source": [
    "# Model summary\n",
    "\n",
    "model.summary()"
   ]
  },
  {
   "cell_type": "code",
   "execution_count": 13,
   "id": "2d1d8dd5-206c-4d4b-9ba8-c54653ec26e9",
   "metadata": {},
   "outputs": [
    {
     "name": "stdout",
     "output_type": "stream",
     "text": [
      "Epoch 1/20\n",
      "1875/1875 [==============================] - 34s 18ms/step - loss: 0.1134 - accuracy: 0.9643\n",
      "Epoch 2/20\n",
      "1875/1875 [==============================] - 34s 18ms/step - loss: 0.0372 - accuracy: 0.9885\n",
      "Epoch 3/20\n",
      "1875/1875 [==============================] - 33s 18ms/step - loss: 0.0266 - accuracy: 0.9911\n",
      "Epoch 4/20\n",
      "1875/1875 [==============================] - 33s 18ms/step - loss: 0.0194 - accuracy: 0.9936\n",
      "Epoch 5/20\n",
      "1875/1875 [==============================] - 33s 18ms/step - loss: 0.0154 - accuracy: 0.9951\n",
      "Epoch 6/20\n",
      "1875/1875 [==============================] - 34s 18ms/step - loss: 0.0131 - accuracy: 0.9958\n",
      "Epoch 7/20\n",
      "1875/1875 [==============================] - 33s 18ms/step - loss: 0.0105 - accuracy: 0.9964\n",
      "Epoch 8/20\n",
      "1875/1875 [==============================] - 34s 18ms/step - loss: 0.0084 - accuracy: 0.9973\n",
      "Epoch 9/20\n",
      "1875/1875 [==============================] - 35s 18ms/step - loss: 0.0097 - accuracy: 0.9970\n",
      "Epoch 10/20\n",
      "1875/1875 [==============================] - 34s 18ms/step - loss: 0.0070 - accuracy: 0.9978\n",
      "Epoch 11/20\n",
      "1875/1875 [==============================] - 33s 18ms/step - loss: 0.0051 - accuracy: 0.9984\n",
      "Epoch 12/20\n",
      "1875/1875 [==============================] - 33s 18ms/step - loss: 0.0074 - accuracy: 0.9976\n",
      "Epoch 13/20\n",
      "1875/1875 [==============================] - 34s 18ms/step - loss: 0.0051 - accuracy: 0.9984\n",
      "Epoch 14/20\n",
      "1875/1875 [==============================] - 34s 18ms/step - loss: 0.0058 - accuracy: 0.9984\n",
      "Epoch 15/20\n",
      "1875/1875 [==============================] - 35s 18ms/step - loss: 0.0055 - accuracy: 0.9983\n",
      "Epoch 16/20\n",
      "1875/1875 [==============================] - 33s 18ms/step - loss: 0.0058 - accuracy: 0.9985\n",
      "Epoch 17/20\n",
      "1875/1875 [==============================] - 34s 18ms/step - loss: 0.0048 - accuracy: 0.9986\n",
      "Epoch 18/20\n",
      "1875/1875 [==============================] - 34s 18ms/step - loss: 0.0052 - accuracy: 0.9984\n",
      "Epoch 19/20\n",
      "1875/1875 [==============================] - 33s 18ms/step - loss: 0.0050 - accuracy: 0.9986\n",
      "Epoch 20/20\n",
      "1875/1875 [==============================] - 33s 18ms/step - loss: 0.0037 - accuracy: 0.9991\n"
     ]
    },
    {
     "data": {
      "text/plain": [
       "<keras.callbacks.History at 0x7f63eb166d30>"
      ]
     },
     "execution_count": 13,
     "metadata": {},
     "output_type": "execute_result"
    }
   ],
   "source": [
    "# Train model\n",
    "\n",
    "model.fit(train_data, train_labels, epochs=20)"
   ]
  },
  {
   "cell_type": "code",
   "execution_count": 14,
   "id": "00ced347-3bbb-44c0-9589-70d1d06b89c8",
   "metadata": {},
   "outputs": [
    {
     "data": {
      "text/plain": [
       "['loss', 'accuracy']"
      ]
     },
     "execution_count": 14,
     "metadata": {},
     "output_type": "execute_result"
    }
   ],
   "source": [
    "model.metrics_names"
   ]
  },
  {
   "cell_type": "code",
   "execution_count": 15,
   "id": "65f58fb1-8b74-4a15-9a80-3319959bf256",
   "metadata": {},
   "outputs": [
    {
     "name": "stdout",
     "output_type": "stream",
     "text": [
      "313/313 [==============================] - 2s 5ms/step - loss: 0.0527 - accuracy: 0.9916\n"
     ]
    },
    {
     "data": {
      "text/plain": [
       "[0.05270855873823166, 0.991599977016449]"
      ]
     },
     "execution_count": 15,
     "metadata": {},
     "output_type": "execute_result"
    }
   ],
   "source": [
    "model.evaluate(test_data, test_labels) # why do this?"
   ]
  },
  {
   "cell_type": "code",
   "execution_count": 16,
   "id": "4530711b-3690-4997-b1fa-7bfbe8da4a73",
   "metadata": {},
   "outputs": [
    {
     "name": "stdout",
     "output_type": "stream",
     "text": [
      "313/313 [==============================] - 2s 5ms/step\n"
     ]
    }
   ],
   "source": [
    "# Predict classes on test images\n",
    "\n",
    "predictions = model.predict(test_data)"
   ]
  },
  {
   "cell_type": "code",
   "execution_count": 17,
   "id": "bd5638f4-8728-4cb6-b50e-6282c44e9a7a",
   "metadata": {},
   "outputs": [],
   "source": [
    "model.save('digit_classifier_model.h5')"
   ]
  }
 ],
 "metadata": {
  "kernelspec": {
   "display_name": "Python 3 (ipykernel)",
   "language": "python",
   "name": "python3"
  },
  "language_info": {
   "codemirror_mode": {
    "name": "ipython",
    "version": 3
   },
   "file_extension": ".py",
   "mimetype": "text/x-python",
   "name": "python",
   "nbconvert_exporter": "python",
   "pygments_lexer": "ipython3",
   "version": "3.8.10"
  }
 },
 "nbformat": 4,
 "nbformat_minor": 5
}
